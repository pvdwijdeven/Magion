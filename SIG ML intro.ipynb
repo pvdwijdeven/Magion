{
 "cells": [
  {
   "cell_type": "markdown",
   "metadata": {},
   "source": [
    "# Inleiding\n",
    "\n",
    "Dit is een Jupyter Notebook. Het kan gebruikt worden om beschrijvingen te maken in 'markdown' (zie [deze link](https://github.com/adam-p/markdown-here/wiki/Markdown-Cheatsheet)). Daarnaast kun je code gebruiken (bijvoorbeeld Python) en daarvan de output verwerken in het notebook. Jupyter Notebook wordt daarom ook vaak bij Data Science/Engineering gebruikt. Een Jupyter Notebook kan met diverse programma's worden gelezen en is ook supported door bijvoorbeeld GitHub en Kaggle. Je kunt ook naar pdf printen en daarbij de code wel of niet zichtbaar maken. Door gebruik te maken van secties/hoofdstukken wordt het document overzichtelijk\n",
    "\n",
    "Ik gebruik Jupyter Notebook in een Anaconda omgeving. Dit is een tool waarmee je diverse 'environments' kunt aanmaken, om er zo voor te zorgen dat bijvoorbeeld versies van libraries niet met elkaar clashen.\n",
    "Anaconda (dat ook Jupyter Notebook bevat) is [hier](https://www.anaconda.com/distribution/) te downloaden. Het is aan te raden om de 64-bits versie met **Python 3.7** te nemen.\n",
    "\n",
    "Door te dubbelklikken op een markdown veld, kom je in edit mode. Je gaat weer naar de view mode door op _*ctrl-enter*_ te klikken.\n",
    "\n",
    "[Hier](https://www.dataquest.io/blog/jupyter-notebook-tutorial/) is een tutorial te vinden voor het gebruik van Jupyter Notebook."
   ]
  },
  {
   "cell_type": "markdown",
   "metadata": {},
   "source": [
    "# Machine Learning\n",
    "In dit hoofdstuk probeer ik op eenvoudige wijze de aanpak van machine learning te laten zien. Omdat machine learning in vrij omvangrijk vakgebied is, probeer ik de focus te leggen op technieken waarvan ik denk dat ze voor toepassingen bij klanten van Magion handig zouden kunnen zijn.\n",
    "\n",
    "Eerst nemen we even een stapje terug en kijken we welke vormen van machine learning er zijn:\n",
    "\n",
    "![ML types](https://raw.githubusercontent.com/pvdwijdeven/Magion/master/Pictures/MLTypes.jpg \"Types Machine Learning\")\n",
    "\n",
    "Voor Magion zal supervised learning het meest interessante zijn."
   ]
  },
  {
   "cell_type": "markdown",
   "metadata": {},
   "source": [
    "## Supervised Learning\n",
    "Bij supervised learning zijn 2 types, die we nader zullen bekijken:\n",
    "- classification: de input labels en de output zijn een categorie. Voorbeelden: \n",
    "    - Een (fabrieks)proces is healthy of niet onder bepaalde condities. Dit wordt ook wel binary classification genoemd.\n",
    "    ![Binary classification](https://raw.githubusercontent.com/pvdwijdeven/Magion/master/Pictures/BinReg.png \"Binary classification\")\n",
    "    - Het voorspellen of een moedervlek kwaadraardig is of niet is een ander voorbeeld van binary classification.\n",
    "    ![Mole classification](https://raw.githubusercontent.com/pvdwijdeven/Magion/master/Pictures/Mole.png \"Mole classification\")\n",
    "    - Het herkennen van een gezicht uit een vaste database mensen. Dit wordt ook wel mutli-class classification genoemnd.\n",
    "    ![Face recognition](https://raw.githubusercontent.com/pvdwijdeven/Magion/master/Pictures/FaceRec.png \"Face recognition\")\n",
    "    - Het voorspellen van het type muziek aan de hand van een audio-file is ook een voorbeeld van multi-class classification.\n",
    "    ![Audio recognition](https://raw.githubusercontent.com/pvdwijdeven/Magion/master/Pictures/AudioWave.png \"Audio recognition\")\n",
    "- regression: de input labels en de output zijn een analoge waarde. Voorbeelden:\n",
    "    - De waarde van een analyser wordt voorspeld aan de hand van andere proceswaardes.\n",
    "    ![Virtual analyser](https://raw.githubusercontent.com/pvdwijdeven/Magion/master/Pictures/Analyser.png \"Virtual analyser\")\n",
    "    - Het voorspellen van aandeel-koersen.\n",
    "    ![Stock prediction](https://raw.githubusercontent.com/pvdwijdeven/Magion/master/Pictures/Stock.png \"Stock Prediction\")\n",
    "    \n",
    "Zowel classificatie als regressie is interessant voor ons. Binnen supervised learning zijn nog enkele specialisaties, zoals bijvoorbeeld:\n",
    "- image recognition (vindt enorm veel toepassing in de medische wereld)\n",
    "- natural language processing (wordt bijvoorbeeld door zoekmachines gebruikt)\n",
    "- audio recognition (bijvoorbeeld stem herkenning)\n",
    "en zo zijn er nog meer gebieden... Dit zijn allemaal specialismen die bovenop het \"normale\" machine learning komen.\n",
    "- neurale netwerken: deze kunnen op zich op vele gebieden worden toegepast, gebruikelijk bijvoorbeeld bij image recognition, maar ik noem deze toch even apart omdat het bouwen van een neural netwerk wat anders is dan een standaard classificatie of regressie model.\n",
    "\n",
    "Hetzelfde geldt voor **time-series**, dit is ook een vak apart, waarbij gekeken wordt naar ARIMAs (autoregressive integrated moving average), manieren om met datum/tijd/weekdagen/ploegenschema's om te gaan, het verwijderen van 'white noise\" en nog veel meer. Hoewel dit voor Magion zeer zeker een interessant vakgebied is, is het beter om eerst het concept machine learning in het algemeen beter te leren kennen. Dat ga ik in de komende sessies proberen."
   ]
  },
  {
   "cell_type": "markdown",
   "metadata": {},
   "source": [
    "## Flowchart\n",
    "\n",
    "![flowchart](https://raw.githubusercontent.com/pvdwijdeven/Magion/master/Pictures/MLFlowchart.jpg \"test\")"
   ]
  },
  {
   "cell_type": "markdown",
   "metadata": {},
   "source": [
    "# Python"
   ]
  },
  {
   "cell_type": "markdown",
   "metadata": {},
   "source": [
    "## Waarom Python?\n",
    "De taal die we gaan gebruiken is Python. Waarom?\n",
    "Er zijn grofweg 3 talen die veel gebruikt worden voor machine learning:\n",
    "- Matlab\n",
    "- R\n",
    "- Python\n",
    "\n",
    "Matlab leunt heel erg op matrixrekenen en wordt daardoor vooral door academicy gebruikt. \n",
    "\n",
    "R zit een beetje tussen matlab en Python in en was een of 2 jaar geleden nog net zo populair als Python voor het gebruik in machine learning. \n",
    "\n",
    "Tegenwoordig zie je echter dat er steeds meer mensen zich richten op Python, waardoor ook de community en dus de support veel groter is dan bij R. Dat houdt vaak in dat je daardoor betere libraries hebt en snellere updates.\n",
    "Daarnaast is het gewoon handig om Python te kennen omdat het een goede basis-programmeer taal is (dat is R zeker niet).\n",
    "Als je op ML competitie sites als Kaggle kijkt, zie je daar dat zo'n 10% alleen R gebruikt, 60% alleen Python en 30% een mix van die twee ([bron Kaggle 2018](https://www.kaggle.com/erikbruin/r-vs-python-and-kmodes-clustering-2018-survey))."
   ]
  },
  {
   "cell_type": "markdown",
   "metadata": {},
   "source": [
    "## Python leren\n",
    "Er is een enorm groot aanbod voor het online leren van Python. Zie bijvoorbeeld [deze link](https://hackernoon.com/10-free-python-programming-courses-for-beginners-to-learn-online-38312f3b9912) voor een overzicht van enkele gratis cursussen. Ook op [onlineacademy.nl](http://onlineacademy.nl) staat een basiscursus python.\n",
    "\n",
    "Als je het leren van Python meteen wilt combineren met machine learning, heeft [Kaggle](https://www.kaggle.com/learn/python) ook diverse gratis cursussen voor je.\n",
    "\n",
    "Van veel oefenen en [google](http://www.google.nl) gebruiken als je er niet uitkomt leer je overigens ook enorm veel!"
   ]
  },
  {
   "cell_type": "markdown",
   "metadata": {},
   "source": [
    "## Python en Jupyter Notebook\n",
    "Binnen Jupyter Notebook kun je elke cell afzonderlijk uitvoeren. Je voert dan alleen dat stukje code uit. Dat is soms heel handig, soms ook vervelend. Als je bijvoorbeeld een notebook opnieuw start, moet je vaak je hele programma (dus alle cells) opnieuw doorlopen.\n",
    "\n",
    "Enkele tips om een en ander toch aangenaam te maken:\n",
    "- Start altijd met een cell met libraries. Deze libraries heb je meestal nodig, hoe kort je stukje code ook is. Door de cell te \"Runnen\" heb je meteen alle libraries geladen en kun je elk stukje code uitvoeren.\n",
    "- Soms heb je stukken code waarvan de uitvoering veel tijd kost, maar die je liever zou overslaan als je eenmaal de uitkomst kent. Zet aan het begin van de cel dan bijvoorbeeld:\n",
    "\n",
    "`if longtest:\n",
    "    rest van code`\n",
    "\n",
    "zodat de code alleen wordt uitgevoerd als je de parameter longtest `True` hebt gemaakt.\n",
    "Als je run 'all cells' uitvoert en de parameter longtest is `False`, dan zal deze cell overgeslagen worden. En als je weet dat bijvoorbeeld een gridsearch voor hyperparameters soms wel 10 uur duurt, ben je blij dat je de cel even overslaat als je het resultaat toch al weet!"
   ]
  },
  {
   "cell_type": "markdown",
   "metadata": {},
   "source": [
    "# Van data tot model\n",
    "Genoeg over het algemene deel, dit hele hoofdstuk gaan we wijden aan hoe je een model bouwt."
   ]
  },
  {
   "cell_type": "markdown",
   "metadata": {},
   "source": [
    "## Libraries\n",
    "Zoals gezegd kun je het beste beginnen met de libraries. In de volgende cel gaan we deze libraries laden. Normaal zou ik hier alle libraries inzetten die ik in de hele code zou gebruiken, maar nu beperk ik me tot enkele standaard libraries en zal de overige libraries pas laden zodra deze gebruikt gaan worden, zodat het een geheel stukje code wordt.\n",
    "\n",
    "Omdat een library een stukje code is, heeft het ook een versienummer. Het versienummer kan van invloed zijn op de werking van de library. Ook kan het zijn dat een library niet standaard bij de installatie van Python is bijgesloten. In dat geval moet je de library zelf downloaden. Binnen Anaconda kan dat bijvoorbeeld via de user interface, maar ook via een command line (bijvoorbeeld `conda install -c anaconda numpy`)."
   ]
  },
  {
   "cell_type": "code",
   "execution_count": 2,
   "metadata": {},
   "outputs": [],
   "source": [
    "# Het laden van libraries\n",
    "import numpy as np\n",
    "import pandas as pd\n",
    "import matplotlib.pyplot as plt\n",
    "import seaborn as sns"
   ]
  },
  {
   "cell_type": "markdown",
   "metadata": {},
   "source": [
    "Als je bovenstaande code uitvoert gebeurt er niets zichtbaars. Soms krijg je warnings die laten zien dat er in een nieuwe versie van een library een wijziging gaat plaatsvinden, maar dat kan verder geen kwaad). Wat je in principe doet is dat je een stuk code naar het geheugen laadt via `import` en deze toekent aan een alias via `as`. Dat laatste is gedaan zodat je minder tikwerk hebt tijdens het gebruik van een library:\n",
    "In plaats van `matplotlib.pyplot.show()` kan ik nu `plt.show()` gebruiken.\n",
    "\n",
    "De libraries die ik in de vorige cell geladen heb, zijn libraries die veel gebruikt worden bij machine learning.\n",
    "\n",
    "### NumPy\n",
    "NumPy is een library die het mogelijk maakt om snelle berekeningen te maken met multi-dimensionale arrays/matrices. Op de [NumPy website](https://numpy.org/) is alle informatie te vinden.\n",
    "![Numpy picture](https://raw.githubusercontent.com/pvdwijdeven/Magion/master/Pictures/Numpy.png \"Numpy Picture\")\n",
    "\n",
    "### Pandas\n",
    "ePandas is een uitbreiding op NumPy, waarbij de multi-dimensionale arrays (DataFrames) voorzien zijn van kolomnamen en indexen, om zo eenvoudig elementen binnen het dataframe te benaderen. Ook biedt de library de mogelijkheid om data te importeren van bijvoorbeeld URLs of CSV-bestanden en om dataframes te mergen/sorteren/filteren etc. Onmisbaar voor Machine Learning! Ook voor Pandas is alle informatie op de [Pandas website](https://pandas.pydata.org/pandas-docs/stable/) te vinden.\n",
    "![Pandas picture](https://raw.githubusercontent.com/pvdwijdeven/Magion/master/Pictures/Pandas.png \"Pandas Picture\")\n",
    "\n",
    "### Matplotlib\n",
    "Matplotlib is een library voor het maken van plots. Visualisatie van data is een van de belangrijkste elementen binnen Data Science en daarom is deze library ook onmisbaar. Meestal maak je maar van een zeer beperkt deel van matplotlib gebruik, zie ook volgende paragraaf. Documentatie is te vinden op de [Matplotlib website](https://matplotlib.org/users/index.html).\n",
    "![Matplotlib picture](https://raw.githubusercontent.com/pvdwijdeven/Magion/master/Pictures/Matplotlib.png \"Matplotlib Picture\")\n",
    "\n",
    "### Seaborn\n",
    "Seaborn is een library die bovenop Matplotlib is gebouwd en met korte commando's de meest mooie plots kan maken van je data. De [Example Gallery](https://seaborn.pydata.org/examples/index.html) van de website laat enkele voorbeelden zien.\n",
    "![Seaborn picture](https://raw.githubusercontent.com/pvdwijdeven/Magion/master/Pictures/Seaborn.png \"Seaborn Picture\")"
   ]
  },
  {
   "cell_type": "markdown",
   "metadata": {},
   "source": [
    "## Data laden en een eerste blik\n",
    "\n",
    "In de volgende cel gaan we data laden vanuit een csv file. Daarna bekijken we de data en laat ik meteen zien waarom visualisatie zo belangrijk is.\n",
    "Dit is nog niet de set waarop we machine learning gaan loslaten!"
   ]
  },
  {
   "cell_type": "code",
   "execution_count": 32,
   "metadata": {
    "scrolled": true
   },
   "outputs": [
    {
     "name": "stdout",
     "output_type": "stream",
     "text": [
      "          x1     y1     x2     y2     x3     y3     x4     y4\n",
      "count  11.00  11.00  11.00  11.00  11.00  11.00  11.00  11.00\n",
      "mean    9.00   7.50   9.00   7.50   9.00   7.50   9.00   7.50\n",
      "std     3.32   2.03   3.32   2.03   3.32   2.03   3.32   2.03\n"
     ]
    }
   ],
   "source": [
    "# load csv to dataframe df_quartet\n",
    "path = 'https://raw.githubusercontent.com/pvdwijdeven/Magion/master/Data/'\n",
    "file = 'quartet.csv'\n",
    "df_quartet = pd.read_csv(path+file)\n",
    "\n",
    "# met .describe() kun je wat standaard parameters laten zien.\n",
    "# Omdat ik alleen de eerste 4 regels wil laten zien, doe ik dat door er\n",
    "# [0:3] achter te zetten (de eerste regel is 0)\n",
    "# Afronden naar 2 decimalen kan door er .round(2) achter te zetten\n",
    "print(df_quartet.describe()[0:3].round(2))"
   ]
  },
  {
   "cell_type": "markdown",
   "metadata": {},
   "source": [
    "We hebben hier 4 sets, waarvan het aantal variabelen (11), het gemiddelde en de standaard deviatie gelijk zijn.\n",
    "\n",
    "Laten we kijken hoe het zit met het verband tussen x en y bij elke dataset. Hiervoor ga ik gebruik maken van de [scipy library](https://docs.scipy.org/doc/scipy/reference/) waarin veel statische functies te vinden zijn.\n",
    "Omdat ik niet de gehele library wil laden, maak ik gebruik van de vorm:\n",
    "\n",
    "`from library import function`."
   ]
  },
  {
   "cell_type": "code",
   "execution_count": 68,
   "metadata": {},
   "outputs": [
    {
     "name": "stdout",
     "output_type": "stream",
     "text": [
      "dataset 1\n",
      "x y correlation: 0.82\n",
      "best fit: y = 0.50x+3.00\n",
      "\n",
      "dataset 2\n",
      "x y correlation: 0.82\n",
      "best fit: y = 0.50x+3.00\n",
      "\n",
      "dataset 3\n",
      "x y correlation: 0.82\n",
      "best fit: y = 0.50x+3.00\n",
      "\n",
      "dataset 4\n",
      "x y correlation: 0.82\n",
      "best fit: y = 0.50x+3.00\n",
      "\n"
     ]
    }
   ],
   "source": [
    "# import pearson correlation function\n",
    "from scipy.stats import pearsonr\n",
    "# import linear regression function\n",
    "from scipy.stats import linregress\n",
    "\n",
    "# loop over all 4 datasets\n",
    "for i in range(0,4):\n",
    "    x = df_quartet.iloc[:,i*2]\n",
    "    y = df_quartet.iloc[:,i*2+1]\n",
    "    print('dataset',i+1)\n",
    "    print(\"x y correlation:\",pearsonr(x,y)[0].round(2))\n",
    "    a, b, _, _, _ = linregress(x, y)\n",
    "    print(\"best fit: y = %.2fx+%.2f\\n\" %(a,b))\n",
    "    "
   ]
  },
  {
   "cell_type": "markdown",
   "metadata": {},
   "source": [
    "Het lijkt er sterk op dat de 4 datasets gelijk zijn: de gemiddelden, standaard deviaties en correlaties zijn gelijk, en zelfs een lineaire regressie geeft hetzelfde resultaat.\n",
    "\n",
    "Natuurlijk is er meer aan de hand. We gaan nu zien waarom visualisatie zo belangrijk is.\n",
    "\n",
    "In de volgende cel gaan we de 4 datasets plotten, met daarin meteen de lineaire regressie weergegeven."
   ]
  },
  {
   "cell_type": "code",
   "execution_count": 82,
   "metadata": {},
   "outputs": [
    {
     "data": {
      "text/plain": [
       "<matplotlib.axes._subplots.AxesSubplot at 0x22273a15348>"
      ]
     },
     "execution_count": 82,
     "metadata": {},
     "output_type": "execute_result"
    },
    {
     "data": {
      "image/png": "[encoded data removed]",
      "text/plain": [
       "<Figure size 432x288 with 4 Axes>"
      ]
     },
     "metadata": {
      "needs_background": "light"
     },
     "output_type": "display_data"
    }
   ],
   "source": [
    "def fit(x):\n",
    "    return 3 + 0.5 * x\n",
    "\n",
    "fig, axs = plt.subplots(2, 2, sharex=True, sharey=True)\n",
    "axs[0, 0].set(xlim=(0, 20), ylim=(2, 14))\n",
    "axs[0, 0].set(xticks=(0, 10, 20), yticks=(4, 8, 12))\n",
    "sns.regplot(x=df_quartet.x1, y=df_quartet.y1, color=\"g\", ax=axs[0, 0])\n",
    "sns.regplot(x=df_quartet.x2, y=df_quartet.y2, color=\"r\", ax=axs[1, 0])\n",
    "sns.regplot(x=df_quartet.x3, y=df_quartet.y3, color=\"b\", ax=axs[0, 1])\n",
    "sns.regplot(x=df_quartet.x4, y=df_quartet.y4, color=\"y\", ax=axs[1, 1])"
   ]
  }
 ],
 "metadata": {
  "kernelspec": {
   "display_name": "Python 3",
   "language": "python",
   "name": "python3"
  },
  "language_info": {
   "codemirror_mode": {
    "name": "ipython",
    "version": 3
   },
   "file_extension": ".py",
   "mimetype": "text/x-python",
   "name": "python",
   "nbconvert_exporter": "python",
   "pygments_lexer": "ipython3",
   "version": "3.7.4"
  },
  "toc": {
   "base_numbering": 1,
   "nav_menu": {},
   "number_sections": true,
   "sideBar": true,
   "skip_h1_title": false,
   "title_cell": "Table of Contents",
   "title_sidebar": "Contents",
   "toc_cell": false,
   "toc_position": {},
   "toc_section_display": true,
   "toc_window_display": true
  }
 },
 "nbformat": 4,
 "nbformat_minor": 2
}
