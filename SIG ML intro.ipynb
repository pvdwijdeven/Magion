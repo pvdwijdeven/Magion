{
 "cells": [
  {
   "cell_type": "markdown",
   "metadata": {},
   "source": [
    "# Inleiding\n",
    "\n",
    "Dit is een Jupyter Notebook. Het kan gebruikt worden om beschrijvingen te maken in 'markdown' (zie [deze link](https://github.com/adam-p/markdown-here/wiki/Markdown-Cheatsheet)). Daarnaast kun je code gebruiken (bijvoorbeeld Python) en daarvan de output verwerken in het notebook. Jupyter Notebook wordt daarom ook vaak bij Data Science/Engineering gebruikt. Een Jupyter Notebook kan met diverse programma's worden gelezen en is ook supported door bijvoorbeeld GitHub en Kaggle. Je kunt ook naar pdf printen en daarbij de code wel of niet zichtbaar maken. Door gebruik te maken van secties/hoofdstukken wordt het document overzichtelijk\n",
    "\n",
    "Ik gebruik Jupyter Notebook in een Anaconda omgeving. Dit is een tool waarmee je diverse 'environments' kunt aanmaken, om er zo voor te zorgen dat bijvoorbeeld versies van libraries niet met elkaar clashen.\n",
    "Anaconda (dat ook Jupyter Notebook bevat) is [hier](https://www.anaconda.com/distribution/) te downloaden. Het is aan te raden om de 64-bits versie met **Python 3.7** te nemen.\n",
    "\n",
    "Door te dubbelklikken op een markdown veld, kom je in edit mode. Je gaat weer naar de view mode door op _*ctrl-enter*_ te klikken.\n",
    "\n",
    "[Hier](https://www.dataquest.io/blog/jupyter-notebook-tutorial/) is een tutorial te vinden voor het gebruik van Jupyter Notebook."
   ]
  },
  {
   "cell_type": "markdown",
   "metadata": {},
   "source": [
    "# Machine Learning\n",
    "In dit hoofdstuk probeer ik op eenvoudige wijze de aanpak van machine learning te laten zien. Omdat machine learning in vrij omvangrijk vakgebied is, probeer ik de focus te leggen op technieken waarvan ik denk dat ze voor toepassingen bij klanten van Magion handig zouden kunnen zijn.\n",
    "\n",
    "Eerst nemen we even een stapje terug en kijken we welke vormen van machine learning er zijn:\n",
    "\n",
    "![ML types](https://raw.githubusercontent.com/pvdwijdeven/Magion/master/Pictures/MLTypes.jpg \"Types Machine Learning\")\n",
    "\n",
    "Voor Magion zal supervised learning het meest interessante zijn."
   ]
  },
  {
   "cell_type": "markdown",
   "metadata": {},
   "source": [
    "## Supervised Learning\n",
    "Bij supervised learning zijn 2 types, die we nader zullen bekijken:\n",
    "- classification: de input labels en de output zijn een categorie. Voorbeelden: \n",
    "    - Een (fabrieks)proces is healthy of niet onder bepaalde condities. Dit wordt ook wel binary classification genoemd.\n",
    "    ![Binary classification](https://raw.githubusercontent.com/pvdwijdeven/Magion/master/Pictures/BinReg.png \"Binary classification\")\n",
    "    - Het voorspellen of een moedervlek kwaadraardig is of niet is een ander voorbeeld van binary classification.\n",
    "    ![Mole classification](https://raw.githubusercontent.com/pvdwijdeven/Magion/master/Pictures/Mole.png \"Mole classification\")\n",
    "    - Het herkennen van een gezicht uit een vaste database mensen. Dit wordt ook wel mutli-class classification genoemnd.\n",
    "    ![Face recognition](https://raw.githubusercontent.com/pvdwijdeven/Magion/master/Pictures/FaceRec.png \"Face recognition\")\n",
    "    - Het voorspellen van het type muziek aan de hand van een audio-file is ook een voorbeeld van multi-class classification.\n",
    "    ![Audio recognition](https://raw.githubusercontent.com/pvdwijdeven/Magion/master/Pictures/AudioWave.png \"Audio recognition\")\n",
    "- regression: de input labels en de output zijn een analoge waarde. Voorbeelden:\n",
    "    - De waarde van een analyser wordt voorspeld aan de hand van andere proceswaardes.\n",
    "    ![Virtual analyser](https://raw.githubusercontent.com/pvdwijdeven/Magion/master/Pictures/Analyser.png \"Virtual analyser\")\n",
    "    - Het voorspellen van aandeel-koersen.\n",
    "    ![Stock prediction](https://raw.githubusercontent.com/pvdwijdeven/Magion/master/Pictures/Stock.png \"Stock Prediction\")\n",
    "    \n",
    "Zowel classificatie als regressie is interessant voor ons. Binnen supervised learning zijn nog enkele specialisaties, zoals bijvoorbeeld:\n",
    "- image recognition (vindt enorm veel toepassing in de medische wereld)\n",
    "- natural language processing (wordt bijvoorbeeld door zoekmachines gebruikt)\n",
    "- audio recognition (bijvoorbeeld stem herkenning)\n",
    "en zo zijn er nog meer gebieden... Dit zijn allemaal specialismen die bovenop het \"normale\" machine learning komen.\n",
    "- neurale netwerken: deze kunnen op zich op vele gebieden worden toegepast, gebruikelijk bijvoorbeeld bij image recognition, maar ik noem deze toch even apart omdat het bouwen van een neural netwerk wat anders is dan een standaard classificatie of regressie model.\n",
    "\n",
    "Hetzelfde geldt voor **time-series**, dit is ook een vak apart, waarbij gekeken wordt naar ARIMAs (autoregressive integrated moving average), manieren om met datum/tijd/weekdagen/ploegenschema's om te gaan, het verwijderen van 'white noise\" en nog veel meer. Hoewel dit voor Magion zeer zeker een interessant vakgebied is, is het beter om eerst het concept machine learning in het algemeen beter te leren kennen. Dat ga ik in de komende sessies proberen."
   ]
  },
  {
   "cell_type": "markdown",
   "metadata": {},
   "source": [
    "## Flowchart\n",
    "\n",
    "![flowchart](https://raw.githubusercontent.com/pvdwijdeven/Magion/master/Pictures/MLFlowchart.jpg \"test\")"
   ]
  },
  {
   "cell_type": "markdown",
   "metadata": {},
   "source": [
    "# Python"
   ]
  },
  {
   "cell_type": "markdown",
   "metadata": {},
   "source": [
    "## Waarom Python?\n",
    "De taal die we gaan gebruiken is Python. Waarom?\n",
    "Er zijn grofweg 3 talen die veel gebruikt worden voor machine learning:\n",
    "- Matlab\n",
    "- R\n",
    "- Python\n",
    "\n",
    "Matlab leunt heel erg op matrixrekenen en wordt daardoor vooral door academicy gebruikt. \n",
    "\n",
    "R zit een beetje tussen matlab en Python in en was een of 2 jaar geleden nog net zo populair als Python voor het gebruik in machine learning. \n",
    "\n",
    "Tegenwoordig zie je echter dat er steeds meer mensen zich richten op Python, waardoor ook de community en dus de support veel groter is dan bij R. Dat houdt vaak in dat je daardoor betere libraries hebt en snellere updates.\n",
    "Daarnaast is het gewoon handig om Python te kennen omdat het een goede basis-programmeer taal is (dat is R zeker niet).\n",
    "Als je op ML competitie sites als Kaggle kijkt, zie je daar dat zo'n 10% alleen R gebruikt, 60% alleen Python en 30% een mix van die twee ([bron Kaggle 2018](https://www.kaggle.com/erikbruin/r-vs-python-and-kmodes-clustering-2018-survey))."
   ]
  },
  {
   "cell_type": "markdown",
   "metadata": {},
   "source": [
    "## Python leren\n",
    "Er is een enorm groot aanbod voor het online leren van Python. Zie bijvoorbeeld [deze link](https://hackernoon.com/10-free-python-programming-courses-for-beginners-to-learn-online-38312f3b9912) voor een overzicht van enkele gratis cursussen. Ook op [onlineacademy.nl](http://onlineacademy.nl) staat een basiscursus python.\n",
    "\n",
    "Als je het leren van Python meteen wilt combineren met machine learning, heeft [Kaggle](https://www.kaggle.com/learn/python) ook diverse gratis cursussen voor je.\n",
    "\n",
    "Van veel oefenen en [google](http://www.google.nl) gebruiken als je er niet uitkomt leer je overigens ook enorm veel!"
   ]
  },
  {
   "cell_type": "markdown",
   "metadata": {},
   "source": [
    "## Python en Jupyter Notebook\n",
    "Binnen Jupyter Notebook kun je elke cell afzonderlijk uitvoeren. Je voert dan alleen dat stukje code uit. Dat is soms heel handig, soms ook vervelend. Als je bijvoorbeeld een notebook opnieuw start, moet je vaak je hele programma (dus alle cells) opnieuw doorlopen.\n",
    "\n",
    "Enkele tips om een en ander toch aangenaam te maken:\n",
    "- Start altijd met een cell met libraries. Deze libraries heb je meestal nodig, hoe kort je stukje code ook is. Door de cell te \"Runnen\" heb je meteen alle libraries geladen en kun je elk stukje code uitvoeren.\n",
    "- Soms heb je stukken code waarvan de uitvoering veel tijd kost, maar die je liever zou overslaan als je eenmaal de uitkomst kent. Zet aan het begin van de cel dan bijvoorbeeld:\n",
    "\n",
    "`if longtest:\n",
    "    rest van code`\n",
    "\n",
    "zodat de code alleen wordt uitgevoerd als je de parameter longtest `True` hebt gemaakt.\n",
    "Als je run 'all cells' uitvoert en de parameter longtest is `False`, dan zal deze cell overgeslagen worden. En als je weet dat bijvoorbeeld een gridsearch voor hyperparameters soms wel 10 uur duurt, ben je blij dat je de cel even overslaat als je het resultaat toch al weet!"
   ]
  },
  {
   "cell_type": "markdown",
   "metadata": {},
   "source": [
    "# Van data tot model\n",
    "Genoeg over het algemene deel, dit hele hoofdstuk gaan we wijden aan hoe je een model bouwt."
   ]
  },
  {
   "cell_type": "markdown",
   "metadata": {},
   "source": [
    "## Libraries\n",
    "Zoals gezegd kun je het beste beginnen met de libraries. In de volgende cel gaan we deze libraries laden. Normaal zou ik hier alle libraries inzetten die ik in de hele code zou gebruiken, maar nu beperk ik me tot enkele standaard libraries en zal de overige libraries pas laden zodra deze gebruikt gaan worden, zodat het een geheel stukje code wordt."
   ]
  },
  {
   "cell_type": "code",
   "execution_count": 1,
   "metadata": {},
   "outputs": [],
   "source": [
    "# Het laden van libraries\n",
    "import pandas as pd\n",
    "import numpy as np\n",
    "import matplotlib.pyplot as plt\n",
    "import seaborn as sns"
   ]
  }
 ],
 "metadata": {
  "kernelspec": {
   "display_name": "Python 3",
   "language": "python",
   "name": "python3"
  },
  "language_info": {
   "codemirror_mode": {
    "name": "ipython",
    "version": 3
   },
   "file_extension": ".py",
   "mimetype": "text/x-python",
   "name": "python",
   "nbconvert_exporter": "python",
   "pygments_lexer": "ipython3",
   "version": "3.7.4"
  },
  "toc": {
   "base_numbering": 1,
   "nav_menu": {},
   "number_sections": true,
   "sideBar": true,
   "skip_h1_title": false,
   "title_cell": "Table of Contents",
   "title_sidebar": "Contents",
   "toc_cell": false,
   "toc_position": {},
   "toc_section_display": true,
   "toc_window_display": true
  }
 },
 "nbformat": 4,
 "nbformat_minor": 2
}
