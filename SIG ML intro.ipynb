{
 "cells": [
  {
   "cell_type": "markdown",
   "metadata": {},
   "source": [
    "# Inleiding\n",
    "\n",
    "Dit is een Jupyter Notebook. Het kan gebruikt worden om beschrijvingen te maken in 'markdown' (zie [deze link](https://github.com/adam-p/markdown-here/wiki/Markdown-Cheatsheet)). Daarnaast kun je code gebruiken (bijvoorbeeld Python) en daarvan de output verwerken in het notebook. Jupyter Notebook wordt daarom ook vaak bij Data Science/Engineering gebruikt. Een Jupyter Notebook kan met diverse programma's worden gelezen en is ook supported door bijvoorbeeld GitHub en Kaggle. Je kunt ook naar pdf printen en daarbij de code wel of niet zichtbaar maken. Door gebruik te maken van secties/hoofdstukken wordt het document overzichtelijk\n",
    "\n",
    "Ik gebruik Jupyter Notebook in een Anaconda omgeving. Dit is een tool waarmee je diverse 'environments' kunt aanmaken, om er zo voor te zorgen dat bijvoorbeeld versies van libraries niet met elkaar clashen.\n",
    "Anaconda (dat ook Jupyter Notebook bevat) is [hier](https://www.anaconda.com/distribution/) te downloaden. Het is aan te raden om de 64-bits versie met **Python 3.7** te nemen.\n",
    "\n",
    "Door te dubbelklikken op een markdown veld, kom je in edit mode. Je gaat weer naar de view mode door op _*ctrl-enter*_ te klikken.\n",
    "\n",
    "[Hier](https://www.dataquest.io/blog/jupyter-notebook-tutorial/) is een tutorial te vinden voor het gebruik van Jupyter Notebook."
   ]
  },
  {
   "cell_type": "markdown",
   "metadata": {},
   "source": [
    "# Machine Learning\n",
    "In dit hoofdstuk probeer ik op eenvoudige wijze de aanpak van machine learning te laten zien. Omdat machine learning in vrij omvangrijk vakgebied is, probeer ik de focus te leggen op technieken waarvan ik denk dat ze voor toepassingen bij klanten van Magion handig zouden kunnen zijn.\n",
    "\n",
    "Eerst nemen we even een stapje terug en kijken we welke vormen van machine learning er zijn:\n",
    "\n",
    "![ML types](https://raw.githubusercontent.com/pvdwijdeven/Magion/master/Pictures/MLTypes.jpg \"Types Machine Learning\")\n",
    "\n",
    "Voor Magion zal supervised learning het meest interessante zijn."
   ]
  },
  {
   "cell_type": "markdown",
   "metadata": {},
   "source": [
    "## Supervised Learning\n",
    "Bij supervised learning zijn 2 types, die we nader zullen bekijken:\n",
    "- classification: de input labels en de output zijn een categorie. Voorbeelden: \n",
    "    - Een (fabrieks)proces is healthy of niet onder bepaalde condities. Dit wordt ook wel binary classification genoemd.\n",
    "    - Het voorspellen of een moedervlek kwaadraardig is of niet is een ander voorbeeld van binary classification.\n",
    "    - Het herkennen van een gezicht uit een vaste database mensen. Dit wordt ook wel mutli-class classification genoemnd\n",
    "    - Het voorspellen van het type muziek aan de hand van een audio-file is ook een voorbeeld van multi-class classification.\n",
    "- regression: de input labels en de output zijn een analoge waarde. Voorbeelden:\n",
    "    - De waarde van een analyser wordt voorspeld aan de hand van andere proceswaardes.\n",
    "    - Het voorspellen van aandeel-koersen.\n",
    "    \n",
    "Zowel classificatie als regressie is interessant voor ons. Binnen supervised learning zijn nog enkele specialisaties, zoals bijvoorbeeld:\n",
    "- image recognition (vindt enorm veel toepassing in de medische wereld)\n",
    "- natural language processing (wordt bijvoorbeeld door zoekmachines gebruikt)\n",
    "- audio recognition (bijvoorbeeld stem herkenning)\n",
    "en zo zijn er nog meer gebieden... Dit zijn allemaal specialismen die bovenop het \"normale\" machine learning komen.\n",
    "- neurale netwerken: deze kunnen op zich op vele gebieden worden toegepast, gebruikelijk bijvoorbeeld bij image recognition, maar ik noem deze toch even apart omdat het bouwen van een neural netwerk wat anders is dan een standaard classificatie of regressie model.\n",
    "\n",
    "Hetzelfde geldt voor **time-series**, dit is ook een vak apart, waarbij gekeken wordt naar ARIMAs (autoregressive integrated moving average), manieren om met datum/tijd/weekdagen/ploegenschema's om te gaan, het verwijderen van 'white noise\" en nog veel meer. Hoewel dit voor Magion zeer zeker een interessant vakgebied is, is het beter om eerst het concept machine learning in het algemeen beter te leren kennen. Dat ga ik in de komende sessies proberen."
   ]
  },
  {
   "cell_type": "markdown",
   "metadata": {},
   "source": [
    "## Flowchart\n",
    "\n",
    "![flowchart](https://raw.githubusercontent.com/pvdwijdeven/Magion/master/Pictures/MLFlowchart.jpg \"test\")"
   ]
  }
 ],
 "metadata": {
  "kernelspec": {
   "display_name": "Python 3",
   "language": "python",
   "name": "python3"
  },
  "language_info": {
   "codemirror_mode": {
    "name": "ipython",
    "version": 3
   },
   "file_extension": ".py",
   "mimetype": "text/x-python",
   "name": "python",
   "nbconvert_exporter": "python",
   "pygments_lexer": "ipython3",
   "version": "3.7.4"
  },
  "toc": {
   "base_numbering": 1,
   "nav_menu": {},
   "number_sections": true,
   "sideBar": true,
   "skip_h1_title": false,
   "title_cell": "Table of Contents",
   "title_sidebar": "Contents",
   "toc_cell": false,
   "toc_position": {},
   "toc_section_display": true,
   "toc_window_display": true
  }
 },
 "nbformat": 4,
 "nbformat_minor": 2
}
